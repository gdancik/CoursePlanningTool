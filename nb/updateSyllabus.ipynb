{
 "cells": [
  {
   "cell_type": "markdown",
   "metadata": {},
   "source": [
    "## updateSyllabus\n",
    "\n",
    "Starter code to add a name to a syllabus, using *python-docx* (https://python-docx.readthedocs.io/en/latest/)"
   ]
  },
  {
   "cell_type": "code",
   "execution_count": null,
   "metadata": {},
   "outputs": [],
   "source": [
    "syllabus_template = 'CSC101_Syllabus.docx'\n",
    "new_syllabus = 'CSC101_updated.docx'\n",
    "\n",
    "from docx import Document\n",
    "\n",
    "# Load the Word document\n",
    "document = Document(syllabus_template)"
   ]
  },
  {
   "cell_type": "markdown",
   "metadata": {},
   "source": [
    "### Print each paragraph"
   ]
  },
  {
   "cell_type": "code",
   "execution_count": null,
   "metadata": {},
   "outputs": [],
   "source": [
    "# Print each paragraph\n",
    "for pi, paragraph in enumerate(document.paragraphs, 0):\n",
    "    text = paragraph.text.strip()\n",
    "    if text:  # Only print non-empty paragraphs\n",
    "        print(f\"Paragraph index {pi}: {text}\\n\")\n"
   ]
  },
  {
   "cell_type": "markdown",
   "metadata": {},
   "source": [
    "### Look at styles\n",
    "\n",
    "Note that paragraphs can have multiple runs to allow for different styles within a paragraph, such as words in bold."
   ]
  },
  {
   "cell_type": "code",
   "execution_count": null,
   "metadata": {},
   "outputs": [],
   "source": [
    "p0 = document.paragraphs[0]\n",
    "print('paragraph 0 has style:', p0.style)\n",
    "for r in p0.runs:\n",
    "    print(f'text: \\'{r.text}\\' has font color {r.font.color.rgb}')"
   ]
  },
  {
   "cell_type": "markdown",
   "metadata": {},
   "source": [
    "### Example code to update the syllabus\n",
    "\n",
    "Here we replace the text beginning with '[include title...' with the instructor's name."
   ]
  },
  {
   "cell_type": "code",
   "execution_count": null,
   "metadata": {},
   "outputs": [],
   "source": [
    "name = 'Garrett Dancik, PhD'\n",
    "match_found = False\n",
    "for paragraph in document.paragraphs:\n",
    "\n",
    "    text = paragraph.text\n",
    "    placeholder_index = text.find('[include title') \n",
    "\n",
    "    # if placeholder is found\n",
    "    if placeholder_index > 0 :  \n",
    "        # create new line of text, keeping everything before the placeholder\n",
    "        text = text[:placeholder_index]\n",
    "        text += name        \n",
    "        paragraph.text = text\n",
    "\n",
    "        match_found = True\n",
    "\n",
    "if not match_found :\n",
    "    raise Exception(f'Name placeholder was not found in syllabus {syllabus_template}')\n",
    "\n",
    "# save the updated document\n",
    "print('Updated name, saving new syllabus to', new_syllabus)\n",
    "document.save(new_syllabus)  \n"
   ]
  }
 ],
 "metadata": {
  "kernelspec": {
   "display_name": "Python 3",
   "language": "python",
   "name": "python3"
  },
  "language_info": {
   "codemirror_mode": {
    "name": "ipython",
    "version": 3
   },
   "file_extension": ".py",
   "mimetype": "text/x-python",
   "name": "python",
   "nbconvert_exporter": "python",
   "pygments_lexer": "ipython3",
   "version": "3.9.6"
  }
 },
 "nbformat": 4,
 "nbformat_minor": 2
}
